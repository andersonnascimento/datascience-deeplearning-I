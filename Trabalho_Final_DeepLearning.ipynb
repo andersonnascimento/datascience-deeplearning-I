{
  "nbformat": 4,
  "nbformat_minor": 0,
  "metadata": {
    "kernelspec": {
      "name": "python3",
      "display_name": "Python 3"
    },
    "language_info": {
      "codemirror_mode": {
        "name": "ipython",
        "version": 3
      },
      "file_extension": ".py",
      "mimetype": "text/x-python",
      "name": "python",
      "nbconvert_exporter": "python",
      "pygments_lexer": "ipython3",
      "version": "3.7.4"
    },
    "colab": {
      "name": "Trabalho_Final_DeepLearning.ipynb",
      "provenance": [],
      "collapsed_sections": [],
      "toc_visible": true
    },
    "accelerator": "GPU"
  },
  "cells": [
    {
      "cell_type": "markdown",
      "metadata": {
        "id": "3iMnnbUTttwo",
        "colab_type": "text"
      },
      "source": [
        "## Deep Learning I\n",
        "## Projeto Final\n",
        "\n",
        "Membros: Anderson Silva, Bruno Pospichil, Diego Rosso, Julio Pires e Pedro Dutra.\n",
        "\n",
        "\n",
        "#### Dataset escolhido: Malaria \n",
        "- Kaggle Mirror, Link: https://www.kaggle.com/iarunava/cell-images-for-detecting-malaria\n",
        "- Fonte Original: National Library of Medicine, Link: https://lhncbc.nlm.nih.gov/publication/pub9932"
      ]
    },
    {
      "cell_type": "code",
      "metadata": {
        "id": "VMxCCDqnttwp",
        "colab_type": "code",
        "colab": {}
      },
      "source": [
        "%matplotlib inline\n",
        "import matplotlib.pyplot as plt"
      ],
      "execution_count": 0,
      "outputs": []
    },
    {
      "cell_type": "code",
      "metadata": {
        "id": "IDpL0zLFttws",
        "colab_type": "code",
        "colab": {}
      },
      "source": [
        "import numpy as np\n",
        "from glob import glob\n",
        "from PIL import Image"
      ],
      "execution_count": 0,
      "outputs": []
    },
    {
      "cell_type": "code",
      "metadata": {
        "id": "nMCa5rY_ttwu",
        "colab_type": "code",
        "colab": {}
      },
      "source": [
        "import torch\n",
        "from torch import nn\n",
        "from torch import optim\n",
        "from torchvision import datasets\n",
        "from torchvision import models\n",
        "from torchvision import transforms\n",
        "from torch.utils.data import DataLoader\n",
        "from torch.utils.data.sampler import SubsetRandomSampler\n",
        "\n",
        "from collections import defaultdict\n",
        "import numpy as np"
      ],
      "execution_count": 0,
      "outputs": []
    },
    {
      "cell_type": "markdown",
      "metadata": {
        "id": "yVU3VptvBEl0",
        "colab_type": "text"
      },
      "source": [
        "#### Download do dataset\n",
        "\n",
        "Indicamos as seguintes opções para o download do dataset:\n",
        "- Baixar o dataset pelo mirror link via kaggle acima e descompactar o conteúdo para a pasta `cell_images`. \n",
        "- Instalar o kaggle client e configurar a chave do kaggle na variavel `token` no código abaixo."
      ]
    },
    {
      "cell_type": "code",
      "metadata": {
        "id": "DCTWNKgNBUZK",
        "colab_type": "code",
        "colab": {}
      },
      "source": [
        "# Install kaggle packages\n",
        "!pip install -q kaggle\n",
        "!pip install -q kaggle-cli\n",
        "\n",
        "!rm -rf /content/.kaggle/kaggle.json\n",
        "import json\n",
        "token = {\"username\":\"xxxx\",\"key\":\"xxxxx\"}\n",
        "!mkdir -p .kaggle\n",
        "with open('/content/.kaggle/kaggle.json', 'w') as file:\n",
        "    json.dump(token, file)\n",
        "    \n",
        "!chmod 600 /content/.kaggle/kaggle.json\n",
        "!cp /content/.kaggle/kaggle.json /root/.kaggle/kaggle.json\n",
        "!kaggle config set -n path -v/content\n",
        "\n",
        "!kaggle datasets download iarunava/cell-images-for-detecting-malaria\n",
        "!rm -rf cell_images\n",
        "!unzip -q cell-images-for-detecting-malaria.zip"
      ],
      "execution_count": 0,
      "outputs": []
    },
    {
      "cell_type": "markdown",
      "metadata": {
        "id": "HIwfKr83FPfd",
        "colab_type": "text"
      },
      "source": [
        "#### Git repository\n",
        "\n",
        "Abaixo segue o repositório git contendo o código python no jupyter notebook e também o código LaTeX para gerar o report.\n",
        "\n",
        "\n",
        "https://github.com/andersonnascimento/datascience-deeplearning-I\n"
      ]
    },
    {
      "cell_type": "markdown",
      "metadata": {
        "id": "SetWD1d9ttww",
        "colab_type": "text"
      },
      "source": [
        "### PyTorch [Versão]"
      ]
    },
    {
      "cell_type": "code",
      "metadata": {
        "id": "UF3UlP0yttwx",
        "colab_type": "code",
        "outputId": "e1162cfb-0e30-4239-bbc9-b4403a483121",
        "colab": {
          "base_uri": "https://localhost:8080/",
          "height": 34
        }
      },
      "source": [
        "torch.__version__"
      ],
      "execution_count": 0,
      "outputs": [
        {
          "output_type": "execute_result",
          "data": {
            "text/plain": [
              "'1.2.0'"
            ]
          },
          "metadata": {
            "tags": []
          },
          "execution_count": 4
        }
      ]
    },
    {
      "cell_type": "markdown",
      "metadata": {
        "id": "TYKwEFIpttw0",
        "colab_type": "text"
      },
      "source": [
        "### Configuração do Device (GPU / CPU)"
      ]
    },
    {
      "cell_type": "code",
      "metadata": {
        "id": "qWwRiRPAttw0",
        "colab_type": "code",
        "outputId": "351a643d-85e8-406b-87df-44d0aa8f037e",
        "colab": {
          "base_uri": "https://localhost:8080/",
          "height": 34
        }
      },
      "source": [
        "device = torch.device(\"cuda:0\" if torch.cuda.is_available() else \"cpu\")\n",
        "device"
      ],
      "execution_count": 0,
      "outputs": [
        {
          "output_type": "execute_result",
          "data": {
            "text/plain": [
              "device(type='cuda', index=0)"
            ]
          },
          "metadata": {
            "tags": []
          },
          "execution_count": 5
        }
      ]
    },
    {
      "cell_type": "markdown",
      "metadata": {
        "id": "gAtXIb_pttw3",
        "colab_type": "text"
      },
      "source": [
        "### Definição do Seed"
      ]
    },
    {
      "cell_type": "code",
      "metadata": {
        "id": "rj4IsIgpttw3",
        "colab_type": "code",
        "outputId": "cc291f9f-97e5-4a2d-9c56-956d14b5cfdc",
        "colab": {
          "base_uri": "https://localhost:8080/",
          "height": 34
        }
      },
      "source": [
        "seed = 2019\n",
        "np.random.seed(seed)\n",
        "torch.manual_seed(seed)"
      ],
      "execution_count": 0,
      "outputs": [
        {
          "output_type": "execute_result",
          "data": {
            "text/plain": [
              "<torch._C.Generator at 0x7efbbdb4a170>"
            ]
          },
          "metadata": {
            "tags": []
          },
          "execution_count": 6
        }
      ]
    },
    {
      "cell_type": "markdown",
      "metadata": {
        "id": "S1vwCy4mttw6",
        "colab_type": "text"
      },
      "source": [
        "### Métodos para processamento/visualização de imagens"
      ]
    },
    {
      "cell_type": "code",
      "metadata": {
        "id": "7Pk5YH_Wttw6",
        "colab_type": "code",
        "colab": {}
      },
      "source": [
        "def load_image(path):\n",
        "    img = Image.open(path)\n",
        "    return img.convert('RGB')\n",
        "\n",
        "def plot_curves(loss_values, val_acc):\n",
        "    '''\n",
        "        Function to plot training loss \n",
        "        and validation accuracy\n",
        "    '''\n",
        "    fig, ax = plt.subplots(2, 1)\n",
        "    ax[0].set_title('Training Loss')\n",
        "    ax[0].plot(loss_values)\n",
        "    ax[0].set_title('Loss')\n",
        "    ax[0].set_xticks([])\n",
        "    ax[1].set_title('Validation Accuracy')\n",
        "    ax[1].plot(val_acc)\n",
        "    ax[1].set_xticks([])\n",
        "\n",
        "    \n",
        "def plot_image(sample_img, sample_label):\n",
        "    plt.imshow(sample_img)\n",
        "    plt.title(f'Label: {sample_label}')\n",
        "    plt.xticks([])\n",
        "    plt.yticks([])\n",
        "\n",
        "def plot_multiple_images(images, labels, n=6):\n",
        "    fig, ax = plt.subplots(1,n, figsize=(30,30))\n",
        "    for i, (img, label) in enumerate(zip(images, labels)):\n",
        "        ax[i].imshow(img, )\n",
        "        ax[i].set_title(f'Label: {label}')\n",
        "        ax[i].set_xticks([])\n",
        "        ax[i].set_yticks([])"
      ],
      "execution_count": 0,
      "outputs": []
    },
    {
      "cell_type": "markdown",
      "metadata": {
        "id": "04gs9j19ttw8",
        "colab_type": "text"
      },
      "source": [
        "##### Definição de Hiperparametros"
      ]
    },
    {
      "cell_type": "code",
      "metadata": {
        "id": "k4UHzq2zttw9",
        "colab_type": "code",
        "colab": {}
      },
      "source": [
        "batch_size = 32\n",
        "num_workers = 0\n",
        "nb_epochs = 10\n",
        "log_interval = 200\n",
        "lr = 0.001 \n",
        "momentum=0.9"
      ],
      "execution_count": 0,
      "outputs": []
    },
    {
      "cell_type": "markdown",
      "metadata": {
        "id": "cTb5SRItttxC",
        "colab_type": "text"
      },
      "source": [
        "### Dataset:"
      ]
    },
    {
      "cell_type": "code",
      "metadata": {
        "id": "ccTLwn0mttxC",
        "colab_type": "code",
        "colab": {}
      },
      "source": [
        "path = 'cell_images/'"
      ],
      "execution_count": 0,
      "outputs": []
    },
    {
      "cell_type": "code",
      "metadata": {
        "id": "mhlAVDutttxF",
        "colab_type": "code",
        "colab": {}
      },
      "source": [
        "class MalariaDataset(torch.utils.data.Dataset):\n",
        "    \n",
        "    def __init__(self, path, transform=None):\n",
        "        super().__init__()\n",
        "        self.transform = transform\n",
        "        self.images = glob(f'{path}/*/*.png')\n",
        "        self.classes_str = [x.split('/')[-2] for x in self.images]\n",
        "        self.class_set = sorted(list(set(self.classes_str)))\n",
        "    \n",
        "    def __getitem__(self, index):  \n",
        "        image_path = self.images[index]\n",
        "        label_str = self.classes_str[index]\n",
        "        label_int = self.class_set.index(label_str)\n",
        "        image = load_image(image_path)\n",
        "        \n",
        "        if self.transform is not None:\n",
        "            image = self.transform(image)\n",
        "            \n",
        "        return image, label_int\n",
        "     \n",
        "    def __len__(self):\n",
        "        return len(self.images)"
      ],
      "execution_count": 0,
      "outputs": []
    },
    {
      "cell_type": "markdown",
      "metadata": {
        "id": "1c_YW2nAttxH",
        "colab_type": "text"
      },
      "source": [
        "### Separação dos Dados: Treino, Teste e Validação"
      ]
    },
    {
      "cell_type": "code",
      "metadata": {
        "id": "yGn2yg3jttxH",
        "colab_type": "code",
        "outputId": "6e492146-e406-4993-dccb-fa8fa2b5ff15",
        "colab": {
          "base_uri": "https://localhost:8080/",
          "height": 182
        }
      },
      "source": [
        "transform = transforms.Compose([\n",
        "    transforms.Resize((256,256)),\n",
        "    transforms.ToTensor()])\n",
        "    #transforms.Normalize(mean=[0.485, 0.456, 0.406], std=[0.229, 0.224, 0.225])])\n",
        "\n",
        "cell_dataset = MalariaDataset(path, transform=transform)\n",
        "\n",
        "split_15 = int(0.15 * len(cell_dataset))\n",
        "index_list = list(range(len(cell_dataset)))\n",
        "np.random.shuffle(index_list) \n",
        "validate_idx=index_list[:split_15]\n",
        "test_idx=index_list[split_15:split_15*2]\n",
        "train_idx = index_list[split_15*2:]\n",
        "\n",
        "print('Train: ',len(train_idx))\n",
        "print('Validation: ',len(validate_idx))\n",
        "print('Test: ',len(test_idx))\n",
        "print('Total: ', (len(train_idx)+len(validate_idx)+len(test_idx)))\n",
        "\n",
        "train_loader = DataLoader(cell_dataset, batch_size=batch_size,sampler=SubsetRandomSampler(train_idx),num_workers=num_workers)\n",
        "test_loader = DataLoader(cell_dataset, batch_size=batch_size,sampler=SubsetRandomSampler(test_idx),num_workers=num_workers)\n",
        "validate_loader = DataLoader(cell_dataset, batch_size=batch_size,sampler=SubsetRandomSampler(validate_idx),num_workers=num_workers)\n",
        "\n",
        "for images, labels_str in train_loader:\n",
        "    plot_multiple_images(images.permute(0, 2, 3, 1), labels_str, n=batch_size)\n",
        "    break"
      ],
      "execution_count": 0,
      "outputs": [
        {
          "output_type": "stream",
          "text": [
            "Train:  19292\n",
            "Validation:  4133\n",
            "Test:  4133\n",
            "Total:  27558\n"
          ],
          "name": "stdout"
        },
        {
          "output_type": "display_data",
          "data": {
            "image/png": "[encoded data removed]",
            "text/plain": [
              "<Figure size 2160x2160 with 32 Axes>"
            ]
          },
          "metadata": {
            "tags": []
          }
        }
      ]
    },
    {
      "cell_type": "code",
      "metadata": {
        "id": "LVRCJf7SttxK",
        "colab_type": "code",
        "outputId": "4e425969-7dba-42c7-f4fa-77ce980a2efd",
        "colab": {
          "base_uri": "https://localhost:8080/",
          "height": 34
        }
      },
      "source": [
        "classes = cell_dataset.class_set\n",
        "classes"
      ],
      "execution_count": 0,
      "outputs": [
        {
          "output_type": "execute_result",
          "data": {
            "text/plain": [
              "['Parasitized', 'Uninfected']"
            ]
          },
          "metadata": {
            "tags": []
          },
          "execution_count": 13
        }
      ]
    },
    {
      "cell_type": "code",
      "metadata": {
        "id": "M5SasOr6ttxM",
        "colab_type": "code",
        "colab": {}
      },
      "source": [
        "def train_epoch(\n",
        "        history_dict,\n",
        "        model, \n",
        "        device, \n",
        "        train_loader, \n",
        "        optimizer, \n",
        "        criterion, \n",
        "        epoch, \n",
        "        log_interval        \n",
        "    ):\n",
        "    model.train()\n",
        "    history = []\n",
        "    \n",
        "    for batch_idx, (data, target) in enumerate(train_loader):\n",
        "        data, target = data.to(device), target.to(device)\n",
        "        optimizer.zero_grad()\n",
        "        output = model(data)\n",
        "        loss = criterion(output, target)\n",
        "        loss.backward()\n",
        "        history_dict['loss'].append(loss.item())\n",
        "        optimizer.step()\n",
        "        if batch_idx % log_interval == 0:\n",
        "            print('Train Epoch: {} [{}/{} ({:.0f}%)]\\tLoss: {:.6f}'.format(\n",
        "                epoch, batch_idx * len(data), len(train_loader)*batch_size,\n",
        "                100. * batch_idx / len(train_loader), loss.item()))\n",
        "\n",
        "\n",
        "def test(\n",
        "        model, \n",
        "        device, \n",
        "        criterion, \n",
        "        test_loader\n",
        "    ):\n",
        "    model.eval()\n",
        "    test_loss = 0\n",
        "    correct = 0\n",
        "    with torch.no_grad():\n",
        "        for data, target in test_loader:\n",
        "            data, target = data.to(device), target.to(device)\n",
        "            output = model(data)\n",
        "            test_loss += criterion(output, target).item() # sum up batch loss\n",
        "            pred = output.max(1, keepdim=True)[1] # get the index of the max log-probability\n",
        "            correct += pred.eq(target.view_as(pred)).sum().item()\n",
        "\n",
        "    test_loss /= len(test_loader)*batch_size\n",
        "    accuracy = 100. * correct / (len(test_loader)*batch_size)\n",
        "    print('Test set: Average loss: {:.4f}, Accuracy: {}/{} ({:.2f}%)\\n'.format(\n",
        "        test_loss, correct, len(test_loader)*batch_size,\n",
        "        accuracy))\n",
        "    return accuracy\n",
        "\n",
        "\n",
        "def train(    \n",
        "        history_dict,\n",
        "        model,\n",
        "        train_loader,\n",
        "        test_loader,\n",
        "        device,\n",
        "        lr,\n",
        "        nb_epochs=3,\n",
        "        log_interval=100    \n",
        "    ):\n",
        "    #optimizer = optim.Adam(model.parameters(), lr=lr)\n",
        "    optimizer = optim.SGD(model.parameters(), lr=lr, momentum=momentum)\n",
        "    criterion = nn.CrossEntropyLoss().to(device)\n",
        "\n",
        "    for epoch in range(1, nb_epochs + 1):\n",
        "        print('\\n* * * Training * * *')\n",
        "        train_epoch(\n",
        "            history_dict=history_dict,\n",
        "            model=model, \n",
        "            device=device, \n",
        "            train_loader=train_loader, \n",
        "            optimizer=optimizer, \n",
        "            criterion=criterion, \n",
        "            epoch=epoch, \n",
        "            log_interval=log_interval\n",
        "        )\n",
        "        print('\\n* * * Evaluating * * *')\n",
        "        acc = test(model, device, criterion, test_loader)   \n",
        "        history_dict['val_acc'].append(acc)\n",
        "    \n",
        "    return acc"
      ],
      "execution_count": 0,
      "outputs": []
    },
    {
      "cell_type": "code",
      "metadata": {
        "id": "INnwOyDottxO",
        "colab_type": "code",
        "colab": {}
      },
      "source": [
        "def calculate_accuracy(\n",
        "        model, \n",
        "        device, \n",
        "        test_loader\n",
        "    ):\n",
        "    model.eval()\n",
        "    correct = 0\n",
        "    with torch.no_grad():\n",
        "        for data, target in test_loader:\n",
        "            data, target = data.to(device), target.to(device)\n",
        "            output = model(data)\n",
        "            pred = output.max(1, keepdim=True)[1] # get the index of the max log-probability\n",
        "            correct += pred.eq(target.view_as(pred)).sum().item()\n",
        "\n",
        "    accuracy = 100. * correct / (len(test_loader)*batch_size)\n",
        "    print('Accuracy: {}/{} ({:.2f}%)\\n'.format(\n",
        "        correct, len(test_loader)*batch_size, accuracy))\n",
        "    return accuracy"
      ],
      "execution_count": 0,
      "outputs": []
    },
    {
      "cell_type": "markdown",
      "metadata": {
        "id": "y-g4EsxgttxQ",
        "colab_type": "text"
      },
      "source": [
        "### AlexNet"
      ]
    },
    {
      "cell_type": "code",
      "metadata": {
        "id": "vkJDwfcattxQ",
        "colab_type": "code",
        "outputId": "b8358396-bc57-43e2-d247-c15999842ddd",
        "colab": {
          "base_uri": "https://localhost:8080/",
          "height": 1000
        }
      },
      "source": [
        "alex_net_full_dict = defaultdict(list)\n",
        "\n",
        "alexnet_model = moO dels.alexnet(pretrained=False) \n",
        "alexnet_model.classifier  = nn.Sequential(\n",
        "            nn.Dropout(),\n",
        "            nn.Linear(256 * 6 * 6, 4096),\n",
        "            nn.ReLU(inplace=True),\n",
        "            nn.Dropout(),\n",
        "            nn.Linear(4096, 4096),\n",
        "            nn.ReLU(inplace=True),\n",
        "            nn.Linear(4096, 2),\n",
        ")\n",
        "\n",
        "alexnet_model = alexnet_model.to(device)\n",
        "acc = train(alex_net_full_dict, alexnet_model, train_loader, validate_loader, device, lr, nb_epochs, log_interval)\n",
        "print('Final acc: {:.2f}%'.format(acc))"
      ],
      "execution_count": 0,
      "outputs": [
        {
          "output_type": "stream",
          "text": [
            "\n",
            "* * * Training * * *\n",
            "Train Epoch: 1 [0/19296 (0%)]\tLoss: 0.692922\n",
            "Train Epoch: 1 [6400/19296 (33%)]\tLoss: 0.694997\n",
            "Train Epoch: 1 [12800/19296 (66%)]\tLoss: 0.693018\n",
            "Train Epoch: 1 [19200/19296 (100%)]\tLoss: 0.694448\n",
            "\n",
            "* * * Evaluating * * *\n",
            "Test set: Average loss: 0.0217, Accuracy: 2050/4160 (49.28%)\n",
            "\n",
            "\n",
            "* * * Training * * *\n",
            "Train Epoch: 2 [0/19296 (0%)]\tLoss: 0.691913\n",
            "Train Epoch: 2 [6400/19296 (33%)]\tLoss: 0.690783\n",
            "Train Epoch: 2 [12800/19296 (66%)]\tLoss: 0.695853\n",
            "Train Epoch: 2 [19200/19296 (100%)]\tLoss: 0.692533\n",
            "\n",
            "* * * Evaluating * * *\n",
            "Test set: Average loss: 0.0217, Accuracy: 2050/4160 (49.28%)\n",
            "\n",
            "\n",
            "* * * Training * * *\n",
            "Train Epoch: 3 [0/19296 (0%)]\tLoss: 0.693092\n",
            "Train Epoch: 3 [6400/19296 (33%)]\tLoss: 0.692656\n",
            "Train Epoch: 3 [12800/19296 (66%)]\tLoss: 0.692178\n",
            "Train Epoch: 3 [19200/19296 (100%)]\tLoss: 0.692937\n",
            "\n",
            "* * * Evaluating * * *\n",
            "Test set: Average loss: 0.0217, Accuracy: 2050/4160 (49.28%)\n",
            "\n",
            "\n",
            "* * * Training * * *\n",
            "Train Epoch: 4 [0/19296 (0%)]\tLoss: 0.696170\n",
            "Train Epoch: 4 [6400/19296 (33%)]\tLoss: 0.690283\n",
            "Train Epoch: 4 [12800/19296 (66%)]\tLoss: 0.695120\n",
            "Train Epoch: 4 [19200/19296 (100%)]\tLoss: 0.689789\n",
            "\n",
            "* * * Evaluating * * *\n",
            "Test set: Average loss: 0.0216, Accuracy: 2050/4160 (49.28%)\n",
            "\n",
            "\n",
            "* * * Training * * *\n",
            "Train Epoch: 5 [0/19296 (0%)]\tLoss: 0.694179\n",
            "Train Epoch: 5 [6400/19296 (33%)]\tLoss: 0.691613\n",
            "Train Epoch: 5 [12800/19296 (66%)]\tLoss: 0.692287\n",
            "Train Epoch: 5 [19200/19296 (100%)]\tLoss: 0.691298\n",
            "\n",
            "* * * Evaluating * * *\n",
            "Test set: Average loss: 0.0216, Accuracy: 2637/4160 (63.39%)\n",
            "\n",
            "\n",
            "* * * Training * * *\n",
            "Train Epoch: 6 [0/19296 (0%)]\tLoss: 0.691201\n",
            "Train Epoch: 6 [6400/19296 (33%)]\tLoss: 0.698289\n",
            "Train Epoch: 6 [12800/19296 (66%)]\tLoss: 0.683473\n",
            "Train Epoch: 6 [19200/19296 (100%)]\tLoss: 0.689257\n",
            "\n",
            "* * * Evaluating * * *\n",
            "Test set: Average loss: 0.0210, Accuracy: 2466/4160 (59.28%)\n",
            "\n",
            "\n",
            "* * * Training * * *\n",
            "Train Epoch: 7 [0/19296 (0%)]\tLoss: 0.648669\n",
            "Train Epoch: 7 [6400/19296 (33%)]\tLoss: 0.670784\n",
            "Train Epoch: 7 [12800/19296 (66%)]\tLoss: 0.613358\n",
            "Train Epoch: 7 [19200/19296 (100%)]\tLoss: 0.597858\n",
            "\n",
            "* * * Evaluating * * *\n",
            "Test set: Average loss: 0.0194, Accuracy: 2599/4160 (62.48%)\n",
            "\n",
            "\n",
            "* * * Training * * *\n",
            "Train Epoch: 8 [0/19296 (0%)]\tLoss: 0.495839\n",
            "Train Epoch: 8 [6400/19296 (33%)]\tLoss: 0.307702\n",
            "Train Epoch: 8 [12800/19296 (66%)]\tLoss: 0.203616\n",
            "Train Epoch: 8 [19200/19296 (100%)]\tLoss: 0.202160\n",
            "\n",
            "* * * Evaluating * * *\n",
            "Test set: Average loss: 0.0096, Accuracy: 3805/4160 (91.47%)\n",
            "\n",
            "\n",
            "* * * Training * * *\n",
            "Train Epoch: 9 [0/19296 (0%)]\tLoss: 0.354309\n",
            "Train Epoch: 9 [6400/19296 (33%)]\tLoss: 0.488229\n",
            "Train Epoch: 9 [12800/19296 (66%)]\tLoss: 0.400158\n",
            "Train Epoch: 9 [19200/19296 (100%)]\tLoss: 0.298773\n",
            "\n",
            "* * * Evaluating * * *\n",
            "Test set: Average loss: 0.0147, Accuracy: 3573/4160 (85.89%)\n",
            "\n",
            "\n",
            "* * * Training * * *\n",
            "Train Epoch: 10 [0/19296 (0%)]\tLoss: 0.165967\n",
            "Train Epoch: 10 [6400/19296 (33%)]\tLoss: 0.287168\n",
            "Train Epoch: 10 [12800/19296 (66%)]\tLoss: 0.101618\n",
            "Train Epoch: 10 [19200/19296 (100%)]\tLoss: 0.194125\n",
            "\n",
            "* * * Evaluating * * *\n",
            "Test set: Average loss: 0.0107, Accuracy: 3698/4160 (88.89%)\n",
            "\n",
            "Final acc: 88.89%\n"
          ],
          "name": "stdout"
        }
      ]
    },
    {
      "cell_type": "code",
      "metadata": {
        "id": "7JRsdKrdX8lm",
        "colab_type": "code",
        "outputId": "567de5f5-3e63-4dd2-e3d0-f3326cd6654a",
        "colab": {
          "base_uri": "https://localhost:8080/",
          "height": 268
        }
      },
      "source": [
        "plot_curves(alex_net_full_dict['loss'], alex_net_full_dict['val_acc'])"
      ],
      "execution_count": 0,
      "outputs": [
        {
          "output_type": "display_data",
          "data": {
            "image/png": "[encoded data removed]",
            "text/plain": [
              "<Figure size 432x288 with 2 Axes>"
            ]
          },
          "metadata": {
            "tags": []
          }
        }
      ]
    },
    {
      "cell_type": "markdown",
      "metadata": {
        "id": "Se98C6cxttxT",
        "colab_type": "text"
      },
      "source": [
        "### AlexNet com Fine-Tuning"
      ]
    },
    {
      "cell_type": "code",
      "metadata": {
        "id": "-IYK5135ttxU",
        "colab_type": "code",
        "outputId": "fb2210f6-9631-4dff-87d9-80a2482abf24",
        "colab": {
          "base_uri": "https://localhost:8080/",
          "height": 1000
        }
      },
      "source": [
        "alex_net_finetuning_dict = defaultdict(list)\n",
        "\n",
        "alexnet_model_finetuning = models.alexnet(pretrained=True) \n",
        "alexnet_model_finetuning.classifier  = nn.Sequential(\n",
        "            nn.Dropout(),\n",
        "            nn.Linear(256 * 6 * 6, 4096),\n",
        "            nn.ReLU(inplace=True),\n",
        "            nn.Dropout(),\n",
        "            nn.Linear(4096, 4096),\n",
        "            nn.ReLU(inplace=True),\n",
        "            nn.Linear(4096, 2),\n",
        ")\n",
        "\n",
        "alexnet_model_finetuning = alexnet_model_finetuning.to(device)\n",
        "acc = train(alex_net_finetuning_dict, alexnet_model_finetuning, train_loader, validate_loader, device, lr, nb_epochs, log_interval)\n",
        "print('Final acc: {:.2f}%'.format(acc))"
      ],
      "execution_count": 0,
      "outputs": [
        {
          "output_type": "stream",
          "text": [
            "\n",
            "* * * Training * * *\n",
            "Train Epoch: 1 [0/19296 (0%)]\tLoss: 0.684854\n",
            "Train Epoch: 1 [6400/19296 (33%)]\tLoss: 0.372766\n",
            "Train Epoch: 1 [12800/19296 (66%)]\tLoss: 0.085623\n",
            "Train Epoch: 1 [19200/19296 (100%)]\tLoss: 0.167795\n",
            "\n",
            "* * * Evaluating * * *\n",
            "Test set: Average loss: 0.0043, Accuracy: 3939/4160 (94.69%)\n",
            "\n",
            "\n",
            "* * * Training * * *\n",
            "Train Epoch: 2 [0/19296 (0%)]\tLoss: 0.601470\n",
            "Train Epoch: 2 [6400/19296 (33%)]\tLoss: 0.021151\n",
            "Train Epoch: 2 [12800/19296 (66%)]\tLoss: 0.019017\n",
            "Train Epoch: 2 [19200/19296 (100%)]\tLoss: 0.175024\n",
            "\n",
            "* * * Evaluating * * *\n",
            "Test set: Average loss: 0.0038, Accuracy: 3968/4160 (95.38%)\n",
            "\n",
            "\n",
            "* * * Training * * *\n",
            "Train Epoch: 3 [0/19296 (0%)]\tLoss: 0.113935\n",
            "Train Epoch: 3 [6400/19296 (33%)]\tLoss: 0.083379\n",
            "Train Epoch: 3 [12800/19296 (66%)]\tLoss: 0.146753\n",
            "Train Epoch: 3 [19200/19296 (100%)]\tLoss: 0.069849\n",
            "\n",
            "* * * Evaluating * * *\n",
            "Test set: Average loss: 0.0036, Accuracy: 3979/4160 (95.65%)\n",
            "\n",
            "\n",
            "* * * Training * * *\n",
            "Train Epoch: 4 [0/19296 (0%)]\tLoss: 0.118694\n",
            "Train Epoch: 4 [6400/19296 (33%)]\tLoss: 0.070865\n",
            "Train Epoch: 4 [12800/19296 (66%)]\tLoss: 0.022914\n",
            "Train Epoch: 4 [19200/19296 (100%)]\tLoss: 0.125192\n",
            "\n",
            "* * * Evaluating * * *\n",
            "Test set: Average loss: 0.0036, Accuracy: 3980/4160 (95.67%)\n",
            "\n",
            "\n",
            "* * * Training * * *\n",
            "Train Epoch: 5 [0/19296 (0%)]\tLoss: 0.158451\n",
            "Train Epoch: 5 [6400/19296 (33%)]\tLoss: 0.109886\n",
            "Train Epoch: 5 [12800/19296 (66%)]\tLoss: 0.043988\n",
            "Train Epoch: 5 [19200/19296 (100%)]\tLoss: 0.096265\n",
            "\n",
            "* * * Evaluating * * *\n",
            "Test set: Average loss: 0.0034, Accuracy: 3984/4160 (95.77%)\n",
            "\n",
            "\n",
            "* * * Training * * *\n",
            "Train Epoch: 6 [0/19296 (0%)]\tLoss: 0.017835\n",
            "Train Epoch: 6 [6400/19296 (33%)]\tLoss: 0.209452\n",
            "Train Epoch: 6 [12800/19296 (66%)]\tLoss: 0.097850\n",
            "Train Epoch: 6 [19200/19296 (100%)]\tLoss: 0.148105\n",
            "\n",
            "* * * Evaluating * * *\n",
            "Test set: Average loss: 0.0034, Accuracy: 3984/4160 (95.77%)\n",
            "\n",
            "\n",
            "* * * Training * * *\n",
            "Train Epoch: 7 [0/19296 (0%)]\tLoss: 0.062637\n",
            "Train Epoch: 7 [6400/19296 (33%)]\tLoss: 0.176891\n",
            "Train Epoch: 7 [12800/19296 (66%)]\tLoss: 0.088848\n",
            "Train Epoch: 7 [19200/19296 (100%)]\tLoss: 0.189428\n",
            "\n",
            "* * * Evaluating * * *\n",
            "Test set: Average loss: 0.0039, Accuracy: 3973/4160 (95.50%)\n",
            "\n",
            "\n",
            "* * * Training * * *\n",
            "Train Epoch: 8 [0/19296 (0%)]\tLoss: 0.083175\n",
            "Train Epoch: 8 [6400/19296 (33%)]\tLoss: 0.077744\n",
            "Train Epoch: 8 [12800/19296 (66%)]\tLoss: 0.032662\n",
            "Train Epoch: 8 [19200/19296 (100%)]\tLoss: 0.157955\n",
            "\n",
            "* * * Evaluating * * *\n",
            "Test set: Average loss: 0.0033, Accuracy: 3979/4160 (95.65%)\n",
            "\n",
            "\n",
            "* * * Training * * *\n",
            "Train Epoch: 9 [0/19296 (0%)]\tLoss: 0.147674\n",
            "Train Epoch: 9 [6400/19296 (33%)]\tLoss: 0.044169\n",
            "Train Epoch: 9 [12800/19296 (66%)]\tLoss: 0.181992\n",
            "Train Epoch: 9 [19200/19296 (100%)]\tLoss: 0.128627\n",
            "\n",
            "* * * Evaluating * * *\n",
            "Test set: Average loss: 0.0032, Accuracy: 3986/4160 (95.82%)\n",
            "\n",
            "\n",
            "* * * Training * * *\n",
            "Train Epoch: 10 [0/19296 (0%)]\tLoss: 0.059837\n",
            "Train Epoch: 10 [6400/19296 (33%)]\tLoss: 0.008279\n",
            "Train Epoch: 10 [12800/19296 (66%)]\tLoss: 0.173807\n",
            "Train Epoch: 10 [19200/19296 (100%)]\tLoss: 0.062787\n",
            "\n",
            "* * * Evaluating * * *\n",
            "Test set: Average loss: 0.0033, Accuracy: 3992/4160 (95.96%)\n",
            "\n",
            "Final acc: 95.96%\n"
          ],
          "name": "stdout"
        }
      ]
    },
    {
      "cell_type": "code",
      "metadata": {
        "id": "8FwRHkewXdGh",
        "colab_type": "code",
        "outputId": "297574cc-0620-46b9-bc74-c97125b0f02b",
        "colab": {
          "base_uri": "https://localhost:8080/",
          "height": 268
        }
      },
      "source": [
        "plot_curves(alex_net_finetuning_dict['loss'], alex_net_finetuning_dict['val_acc'])"
      ],
      "execution_count": 0,
      "outputs": [
        {
          "output_type": "display_data",
          "data": {
            "image/png": "[encoded data removed]",
            "text/plain": [
              "<Figure size 432x288 with 2 Axes>"
            ]
          },
          "metadata": {
            "tags": []
          }
        }
      ]
    },
    {
      "cell_type": "markdown",
      "metadata": {
        "id": "Pi4i9KsEttxW",
        "colab_type": "text"
      },
      "source": [
        "### ResNet50"
      ]
    },
    {
      "cell_type": "code",
      "metadata": {
        "id": "8uIrMDW5ttxW",
        "colab_type": "code",
        "outputId": "11aa6781-9bc6-4cfe-914c-0a19be8db558",
        "colab": {
          "base_uri": "https://localhost:8080/",
          "height": 1000
        }
      },
      "source": [
        "resnet50_history_dict = defaultdict(list)\n",
        "\n",
        "resnet50_model = models.resnet50(pretrained=True) \n",
        "fc_in_features = resnet50_model.fc.in_features\n",
        "resnet50_model.fc = nn.Linear(fc_in_features, 2)\n",
        "resnet50_model = resnet50_model.to(device)\n",
        "acc = train(resnet50_history_dict, resnet50_model, train_loader, validate_loader, device, lr, nb_epochs, log_interval)\n",
        "print('Final acc: {:.2f}%'.format(acc))"
      ],
      "execution_count": 0,
      "outputs": [
        {
          "output_type": "stream",
          "text": [
            "\n",
            "* * * Training * * *\n",
            "Train Epoch: 1 [0/19296 (0%)]\tLoss: 0.734727\n",
            "Train Epoch: 1 [6400/19296 (33%)]\tLoss: 0.162210\n",
            "Train Epoch: 1 [12800/19296 (66%)]\tLoss: 0.036819\n",
            "Train Epoch: 1 [19200/19296 (100%)]\tLoss: 0.026808\n",
            "\n",
            "* * * Evaluating * * *\n",
            "Test set: Average loss: 0.0028, Accuracy: 4003/4160 (96.23%)\n",
            "\n",
            "\n",
            "* * * Training * * *\n",
            "Train Epoch: 2 [0/19296 (0%)]\tLoss: 0.166952\n",
            "Train Epoch: 2 [6400/19296 (33%)]\tLoss: 0.012621\n",
            "Train Epoch: 2 [12800/19296 (66%)]\tLoss: 0.027026\n",
            "Train Epoch: 2 [19200/19296 (100%)]\tLoss: 0.068491\n",
            "\n",
            "* * * Evaluating * * *\n",
            "Test set: Average loss: 0.0028, Accuracy: 4014/4160 (96.49%)\n",
            "\n",
            "\n",
            "* * * Training * * *\n",
            "Train Epoch: 3 [0/19296 (0%)]\tLoss: 0.083158\n",
            "Train Epoch: 3 [6400/19296 (33%)]\tLoss: 0.003224\n",
            "Train Epoch: 3 [12800/19296 (66%)]\tLoss: 0.043852\n",
            "Train Epoch: 3 [19200/19296 (100%)]\tLoss: 0.063198\n",
            "\n",
            "* * * Evaluating * * *\n",
            "Test set: Average loss: 0.0025, Accuracy: 4016/4160 (96.54%)\n",
            "\n",
            "\n",
            "* * * Training * * *\n",
            "Train Epoch: 4 [0/19296 (0%)]\tLoss: 0.077945\n",
            "Train Epoch: 4 [6400/19296 (33%)]\tLoss: 0.003094\n",
            "Train Epoch: 4 [12800/19296 (66%)]\tLoss: 0.007935\n",
            "Train Epoch: 4 [19200/19296 (100%)]\tLoss: 0.143104\n",
            "\n",
            "* * * Evaluating * * *\n",
            "Test set: Average loss: 0.0030, Accuracy: 4013/4160 (96.47%)\n",
            "\n",
            "\n",
            "* * * Training * * *\n",
            "Train Epoch: 5 [0/19296 (0%)]\tLoss: 0.008446\n",
            "Train Epoch: 5 [6400/19296 (33%)]\tLoss: 0.019909\n",
            "Train Epoch: 5 [12800/19296 (66%)]\tLoss: 0.026736\n",
            "Train Epoch: 5 [19200/19296 (100%)]\tLoss: 0.003311\n",
            "\n",
            "* * * Evaluating * * *\n",
            "Test set: Average loss: 0.0032, Accuracy: 4009/4160 (96.37%)\n",
            "\n",
            "\n",
            "* * * Training * * *\n",
            "Train Epoch: 6 [0/19296 (0%)]\tLoss: 0.013600\n",
            "Train Epoch: 6 [6400/19296 (33%)]\tLoss: 0.002395\n",
            "Train Epoch: 6 [12800/19296 (66%)]\tLoss: 0.006874\n",
            "Train Epoch: 6 [19200/19296 (100%)]\tLoss: 0.009309\n",
            "\n",
            "* * * Evaluating * * *\n",
            "Test set: Average loss: 0.0032, Accuracy: 4012/4160 (96.44%)\n",
            "\n",
            "\n",
            "* * * Training * * *\n",
            "Train Epoch: 7 [0/19296 (0%)]\tLoss: 0.010788\n",
            "Train Epoch: 7 [6400/19296 (33%)]\tLoss: 0.101425\n",
            "Train Epoch: 7 [12800/19296 (66%)]\tLoss: 0.014893\n",
            "Train Epoch: 7 [19200/19296 (100%)]\tLoss: 0.006174\n",
            "\n",
            "* * * Evaluating * * *\n",
            "Test set: Average loss: 0.0034, Accuracy: 4012/4160 (96.44%)\n",
            "\n",
            "\n",
            "* * * Training * * *\n",
            "Train Epoch: 8 [0/19296 (0%)]\tLoss: 0.001624\n",
            "Train Epoch: 8 [6400/19296 (33%)]\tLoss: 0.000287\n",
            "Train Epoch: 8 [12800/19296 (66%)]\tLoss: 0.001301\n",
            "Train Epoch: 8 [19200/19296 (100%)]\tLoss: 0.002109\n",
            "\n",
            "* * * Evaluating * * *\n",
            "Test set: Average loss: 0.0036, Accuracy: 4026/4160 (96.78%)\n",
            "\n",
            "\n",
            "* * * Training * * *\n",
            "Train Epoch: 9 [0/19296 (0%)]\tLoss: 0.005422\n",
            "Train Epoch: 9 [6400/19296 (33%)]\tLoss: 0.002182\n",
            "Train Epoch: 9 [12800/19296 (66%)]\tLoss: 0.002417\n",
            "Train Epoch: 9 [19200/19296 (100%)]\tLoss: 0.000035\n",
            "\n",
            "* * * Evaluating * * *\n",
            "Test set: Average loss: 0.0038, Accuracy: 4024/4160 (96.73%)\n",
            "\n",
            "\n",
            "* * * Training * * *\n",
            "Train Epoch: 10 [0/19296 (0%)]\tLoss: 0.000824\n",
            "Train Epoch: 10 [6400/19296 (33%)]\tLoss: 0.000080\n",
            "Train Epoch: 10 [12800/19296 (66%)]\tLoss: 0.009028\n",
            "Train Epoch: 10 [19200/19296 (100%)]\tLoss: 0.001398\n",
            "\n",
            "* * * Evaluating * * *\n",
            "Test set: Average loss: 0.0040, Accuracy: 4011/4160 (96.42%)\n",
            "\n",
            "Final acc: 96.42%\n"
          ],
          "name": "stdout"
        }
      ]
    },
    {
      "cell_type": "code",
      "metadata": {
        "id": "JHF5tjJ0bo6y",
        "colab_type": "code",
        "outputId": "5b346dd1-bf2b-45c6-95c0-2023b65ebb19",
        "colab": {
          "base_uri": "https://localhost:8080/",
          "height": 270
        }
      },
      "source": [
        "plot_curves(resnet50_history_dict['loss'], resnet50_history_dict['val_acc'])"
      ],
      "execution_count": 0,
      "outputs": [
        {
          "output_type": "display_data",
          "data": {
            "image/png": "[encoded data removed]",
            "text/plain": [
              "<Figure size 432x288 with 2 Axes>"
            ]
          },
          "metadata": {
            "tags": []
          }
        }
      ]
    },
    {
      "cell_type": "markdown",
      "metadata": {
        "id": "g0S4WvTdttxa",
        "colab_type": "text"
      },
      "source": [
        "### Avaliação Final"
      ]
    },
    {
      "cell_type": "markdown",
      "metadata": {
        "id": "wNvibwvNcDX-",
        "colab_type": "text"
      },
      "source": [
        "#### AlexNet"
      ]
    },
    {
      "cell_type": "code",
      "metadata": {
        "id": "B0yGRj3nttxb",
        "colab_type": "code",
        "outputId": "a61b2142-eae5-4a3a-acfb-dea7f280282f",
        "colab": {
          "base_uri": "https://localhost:8080/",
          "height": 68
        }
      },
      "source": [
        "calculate_accuracy(alexnet_model, device, test_loader)"
      ],
      "execution_count": 0,
      "outputs": [
        {
          "output_type": "stream",
          "text": [
            "Accuracy: 3726/4160 (89.57%)\n",
            "\n"
          ],
          "name": "stdout"
        },
        {
          "output_type": "execute_result",
          "data": {
            "text/plain": [
              "89.5673076923077"
            ]
          },
          "metadata": {
            "tags": []
          },
          "execution_count": 23
        }
      ]
    },
    {
      "cell_type": "markdown",
      "metadata": {
        "id": "C4wjJVMib-xI",
        "colab_type": "text"
      },
      "source": [
        "#### AlexNet com Fine-Tuning"
      ]
    },
    {
      "cell_type": "code",
      "metadata": {
        "id": "zhzy2j-bttxf",
        "colab_type": "code",
        "outputId": "745d1c07-9b95-4774-be96-e5698355f339",
        "colab": {
          "base_uri": "https://localhost:8080/",
          "height": 68
        }
      },
      "source": [
        "calculate_accuracy(alexnet_model_finetuning, device, test_loader)"
      ],
      "execution_count": 0,
      "outputs": [
        {
          "output_type": "stream",
          "text": [
            "Accuracy: 3977/4160 (95.60%)\n",
            "\n"
          ],
          "name": "stdout"
        },
        {
          "output_type": "execute_result",
          "data": {
            "text/plain": [
              "95.60096153846153"
            ]
          },
          "metadata": {
            "tags": []
          },
          "execution_count": 24
        }
      ]
    },
    {
      "cell_type": "markdown",
      "metadata": {
        "id": "JLAvsIpZcIN3",
        "colab_type": "text"
      },
      "source": [
        "#### ResNet50"
      ]
    },
    {
      "cell_type": "code",
      "metadata": {
        "id": "si5VPCSsttxh",
        "colab_type": "code",
        "outputId": "8f8c686c-15c8-4525-e984-401d74ad30af",
        "colab": {
          "base_uri": "https://localhost:8080/",
          "height": 68
        }
      },
      "source": [
        "calculate_accuracy(resnet50_model, device, test_loader)"
      ],
      "execution_count": 0,
      "outputs": [
        {
          "output_type": "stream",
          "text": [
            "Accuracy: 4004/4160 (96.25%)\n",
            "\n"
          ],
          "name": "stdout"
        },
        {
          "output_type": "execute_result",
          "data": {
            "text/plain": [
              "96.25"
            ]
          },
          "metadata": {
            "tags": []
          },
          "execution_count": 25
        }
      ]
    }
  ]
}